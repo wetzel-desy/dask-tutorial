{
 "cells": [
  {
   "cell_type": "markdown",
   "metadata": {},
   "source": [
    "<img src=\"images/dask_horizontal.svg\" align=\"right\" width=\"30%\">"
   ]
  },
  {
   "cell_type": "markdown",
   "metadata": {},
   "source": [
    "# Lazy execution"
   ]
  },
  {
   "cell_type": "markdown",
   "metadata": {},
   "source": [
    "Here we discuss some of the concepts behind dask, and lazy execution of code. You do not need to go through this material if you are eager to get on with the tutorial, but it may help understand the concepts underlying dask, how these things fit in with techniques you might already be using, and how to understand things that can go wrong."
   ]
  },
  {
   "cell_type": "markdown",
   "metadata": {},
   "source": [
    "## Prelude"
   ]
  },
  {
   "cell_type": "markdown",
   "metadata": {},
   "source": [
    "As Python programmers, you probably already perform certain *tricks* to enable computation of larger-than-memory datasets, parallel execution or delayed/background execution. Perhaps with this phrasing, it is not clear what we mean, but a few examples should make things clearer. The point of Dask is to make simple things easy and complex things possible!\n",
    "\n",
    "Aside from the [detailed introduction](http://dask.pydata.org/en/latest/), we can summarize the basics of Dask as follows:\n",
    "\n",
    "- process data that doesn't fit into memory by breaking it into blocks and specifying task chains\n",
    "- parallelize execution of tasks across cores and even nodes of a cluster\n",
    "- move computation to the data rather than the other way around, to minimize communication overhead\n",
    "\n",
    "All of this allows you to get the most out of your computation resources, but program in a way that is very familiar: for-loops to build basic tasks, Python iterators, and the NumPy (array) and Pandas (dataframe) functions for multi-dimensional or tabular data, respectively.\n",
    "\n",
    "The remainder of this notebook will take you through the first of these programming paradigms. This is more detail than some users will want, who can skip ahead to the iterator, array and dataframe sections; but there will be some data processing tasks that don't easily fit into those abstractions and need to fall back to the methods here.\n",
    "\n",
    "We include a few examples at the end of the notebooks showing that the ideas behind how Dask is built are not actually that novel, and experienced programmers will have met parts of the design in other situations before. Those examples are left for the interested."
   ]
  },
  {
   "cell_type": "markdown",
   "metadata": {},
   "source": [
    "## Dask is a graph execution engine"
   ]
  },
  {
   "cell_type": "markdown",
   "metadata": {},
   "source": [
    "Dask allows you to construct a prescription for the calculation you want to carry out. That may sound strange, but a simple example will demonstrate that you can achieve this while programming with perfectly ordinary Python functions and for-loops. We saw this in the previous notebook."
   ]
  },
  {
   "cell_type": "code",
   "execution_count": 1,
   "metadata": {},
   "outputs": [],
   "source": [
    "from dask import delayed\n",
    "\n",
    "@delayed\n",
    "def inc(x):\n",
    "    return x + 1\n",
    "\n",
    "@delayed\n",
    "def add(x, y):\n",
    "    return x + y"
   ]
  },
  {
   "cell_type": "markdown",
   "metadata": {},
   "source": [
    "Here we have used the delayed annotation to show that we want these functions to operate lazily — to save the set of inputs and execute only on demand. `dask.delayed` is also a function which can do this, without the annotation, leaving the original function unchanged, e.g.,\n",
    "```python\n",
    "    delayed_inc = delayed(inc)\n",
    "```"
   ]
  },
  {
   "cell_type": "code",
   "execution_count": 2,
   "metadata": {},
   "outputs": [],
   "source": [
    "# this looks like ordinary code\n",
    "x = inc(15)\n",
    "y = inc(30)\n",
    "total = add(x, y)\n",
    "# x, y and total are all delayed objects. \n",
    "# They contain a prescription of how to carry out the computation"
   ]
  },
  {
   "cell_type": "markdown",
   "metadata": {},
   "source": [
    "Calling a delayed function created a delayed object (`x, y, total`) which can be examined interactively. Making these objects is somewhat equivalent to constructs like the `lambda` or function wrappers (see below). Each holds a simple dictionary describing the task graph, a full specification of how to carry out the computation.\n",
    "\n",
    "We can visualize the chain of calculations that the object `total` corresponds to as follows; the circles are functions, rectangles are data/results."
   ]
  },
  {
   "cell_type": "code",
   "execution_count": 3,
   "metadata": {},
   "outputs": [
    {
     "data": {
      "image/png": "[encoded data removed]",
      "text/plain": [
       "<IPython.core.display.Image object>"
      ]
     },
     "execution_count": 3,
     "metadata": {},
     "output_type": "execute_result"
    }
   ],
   "source": [
    "total.visualize()"
   ]
  },
  {
   "cell_type": "markdown",
   "metadata": {},
   "source": [
    "But so far, no functions have actually been executed. This demonstrated the division between the graph-creation part of Dask (`delayed()`, in this example) and the graph execution part of Dask.\n",
    "\n",
    "To run the \"graph\" in the visualization, and actually get a result, do:"
   ]
  },
  {
   "cell_type": "code",
   "execution_count": 4,
   "metadata": {},
   "outputs": [
    {
     "data": {
      "text/plain": [
       "47"
      ]
     },
     "execution_count": 4,
     "metadata": {},
     "output_type": "execute_result"
    }
   ],
   "source": [
    "# execute all tasks\n",
    "total.compute()"
   ]
  },
  {
   "cell_type": "markdown",
   "metadata": {},
   "source": [
    "**Why should you care about this?**\n",
    "\n",
    "By building a specification of the calculation we want to carry out before executing anything, we can pass the specification to an *execution engine* for evaluation. In the case of Dask, this execution engine could be running on many nodes of a cluster, so you have access to the full number of CPU cores and memory across all the machines. Dask will intelligently execute your calculation with care for minimizing the amount of data held in memory, while parallelizing over the tasks that make up a graph. Notice that in the animated diagram below, where four workers are processing the (simple) graph, execution progresses vertically up the branches first, so that intermediate results can be expunged before moving onto a new branch.\n",
    "\n",
    "With `delayed` and normal pythonic looped code, very complex graphs can be built up and passed on to Dask for execution. See a nice example of [simulated complex ETL](https://blog.dask.org/2017/01/24/dask-custom) work flow.\n",
    "\n",
    "![this](images/grid_search_schedule.gif)"
   ]
  },
  {
   "cell_type": "markdown",
   "metadata": {},
   "source": [
    "### Exercise"
   ]
  },
  {
   "cell_type": "markdown",
   "metadata": {},
   "source": [
    "We will apply `delayed` to a real data processing task, albeit a simple one.\n",
    "\n",
    "Consider reading three CSV files with `pd.read_csv` and then measuring their total length. We will consider how you would do this with ordinary Python code, then build a graph for this process using delayed, and finally execute this graph using Dask, for a handy speed-up factor of more than two (there are only three inputs to parallelize over)."
   ]
  },
  {
   "cell_type": "code",
   "execution_count": 5,
   "metadata": {},
   "outputs": [],
   "source": [
    "s3options = {'anon': True,\n",
    "             \"client_kwargs\":{\n",
    "                 'endpoint_url': 'http://minio.minio:9000'\n",
    "             }}"
   ]
  },
  {
   "cell_type": "code",
   "execution_count": 6,
   "metadata": {},
   "outputs": [
    {
     "data": {
      "text/plain": [
       "['s3://sci-data/dask-tutorial-data/accounts.0.csv',\n",
       " 's3://sci-data/dask-tutorial-data/accounts.1.csv',\n",
       " 's3://sci-data/dask-tutorial-data/accounts.2.csv']"
      ]
     },
     "execution_count": 6,
     "metadata": {},
     "output_type": "execute_result"
    }
   ],
   "source": [
    "import pandas as pd\n",
    "import os\n",
    "filenames = [os.path.join('s3://', 'sci-data', 'dask-tutorial-data', 'accounts.%d.csv' % i) for i in [0, 1, 2]]\n",
    "filenames"
   ]
  },
  {
   "cell_type": "code",
   "execution_count": 7,
   "metadata": {},
   "outputs": [
    {
     "name": "stdout",
     "output_type": "stream",
     "text": [
      "3000000\n",
      "CPU times: user 1.28 s, sys: 634 ms, total: 1.92 s\n",
      "Wall time: 3.88 s\n"
     ]
    }
   ],
   "source": [
    "%%time\n",
    "\n",
    "# normal, sequential code\n",
    "a = pd.read_csv(filenames[0], storage_options=s3options)\n",
    "b = pd.read_csv(filenames[1], storage_options=s3options)\n",
    "c = pd.read_csv(filenames[2], storage_options=s3options)\n",
    "\n",
    "na = len(a)\n",
    "nb = len(b)\n",
    "nc = len(c)\n",
    "\n",
    "total = sum([na, nb, nc])\n",
    "print(total)"
   ]
  },
  {
   "cell_type": "markdown",
   "metadata": {},
   "source": [
    "Your task is to recreate this graph again using the delayed function on the original Python code. The three functions you want to delay are `pd.read_csv`, `len` and `sum`.. "
   ]
  },
  {
   "cell_type": "markdown",
   "metadata": {},
   "source": [
    "```python\n",
    "delayed_read_csv = delayed(pd.read_csv)\n",
    "a = delayed_read_csv(filenames[0])\n",
    "...\n",
    "\n",
    "total = ...\n",
    "\n",
    "# execute\n",
    "%time total.compute()   \n",
    "```"
   ]
  },
  {
   "cell_type": "code",
   "execution_count": null,
   "metadata": {},
   "outputs": [],
   "source": [
    "# your verbose code here"
   ]
  },
  {
   "cell_type": "markdown",
   "metadata": {},
   "source": [
    "Next, repeat this using loops, rather than writing out all the variables."
   ]
  },
  {
   "cell_type": "code",
   "execution_count": null,
   "metadata": {},
   "outputs": [],
   "source": [
    "# your concise code here"
   ]
  },
  {
   "cell_type": "code",
   "execution_count": 10,
   "metadata": {
    "tags": []
   },
   "outputs": [
    {
     "name": "stdout",
     "output_type": "stream",
     "text": [
      "3000000\n",
      "CPU times: user 1.06 s, sys: 357 ms, total: 1.42 s\n",
      "Wall time: 1.42 s\n",
      "3000000\n",
      "CPU times: user 1.03 s, sys: 194 ms, total: 1.22 s\n",
      "Wall time: 1.34 s\n"
     ]
    }
   ],
   "source": [
    "## verbose version\n",
    "delayed_read_csv = delayed(pd.read_csv)\n",
    "a = delayed_read_csv(filenames[0], storage_options=s3options)\n",
    "b = delayed_read_csv(filenames[1], storage_options=s3options)\n",
    "c = delayed_read_csv(filenames[2], storage_options=s3options)\n",
    "\n",
    "delayed_len = delayed(len)\n",
    "na = delayed_len(a)\n",
    "nb = delayed_len(b)\n",
    "nc = delayed_len(c)\n",
    "\n",
    "delayed_sum = delayed(sum)\n",
    "\n",
    "total = delayed_sum([na, nb, nc])\n",
    "%time print(total.compute())\n",
    "\n",
    "\n",
    "## concise version\n",
    "csvs = [delayed(pd.read_csv)(fn, storage_options=s3options) for fn in filenames]\n",
    "lens = [delayed(len)(csv) for csv in csvs]\n",
    "total = delayed(sum)(lens)\n",
    "%time print(total.compute())\n"
   ]
  },
  {
   "cell_type": "markdown",
   "metadata": {},
   "source": [
    "**Notes**\n",
    "\n",
    "Delayed objects support various operations:\n",
    "```python\n",
    "    x2 = x + 1\n",
    "```"
   ]
  },
  {
   "cell_type": "markdown",
   "metadata": {},
   "source": [
    "if `x` was a delayed result (like `total`, above), then so is `x2`. Supported operations include arithmetic operators, item or slice selection, attribute access and method calls - essentially anything that could be phrased as a `lambda` expression.\n",
    "\n",
    "Operations which are *not* supported include mutation, setter methods, iteration (for) and bool (predicate)."
   ]
  },
  {
   "cell_type": "markdown",
   "metadata": {},
   "source": [
    "## Appendix: Further detail and examples"
   ]
  },
  {
   "cell_type": "markdown",
   "metadata": {},
   "source": [
    "The following examples show that the kinds of things Dask does are not so far removed from normal Python programming when dealing with big data. These examples are **only meant for experts**, typical users can continue with the next notebook in the tutorial."
   ]
  },
  {
   "cell_type": "markdown",
   "metadata": {},
   "source": [
    "### Example 1: simple word count"
   ]
  },
  {
   "cell_type": "markdown",
   "metadata": {},
   "source": [
    "This directory contains a file called `README.md`. How would you count the number of words in that file?\n",
    "\n",
    "The simplest approach would be to load all the data into memory, split on whitespace and count the number of results. Here we use a regular expression to split words."
   ]
  },
  {
   "cell_type": "code",
   "execution_count": 11,
   "metadata": {},
   "outputs": [
    {
     "data": {
      "text/plain": [
       "747"
      ]
     },
     "execution_count": 11,
     "metadata": {},
     "output_type": "execute_result"
    }
   ],
   "source": [
    "import re\n",
    "splitter = re.compile('\\w+')\n",
    "with open('README.md', 'r') as f:\n",
    "    data = f.read()\n",
    "result = len(splitter.findall(data))\n",
    "result"
   ]
  },
  {
   "cell_type": "markdown",
   "metadata": {},
   "source": [
    "The trouble with this approach is that it does not scale - if the file is very large, it, and the generated list of words, might fill up memory. We can easily avoid that, because we only need a simple sum, and each line is totally independent of the others. Now we evaluate each piece of data and immediately free up the space again, so we could perform this on arbitrarily-large files. Note that there is often a trade-off between time-efficiency and memory footprint: the following uses very little memory, but may be slower for files that do not fill a large faction of memory. In general, one would like chunks small enough not to stress memory, but big enough for efficient use of the CPU."
   ]
  },
  {
   "cell_type": "code",
   "execution_count": 12,
   "metadata": {},
   "outputs": [
    {
     "data": {
      "text/plain": [
       "747"
      ]
     },
     "execution_count": 12,
     "metadata": {},
     "output_type": "execute_result"
    }
   ],
   "source": [
    "result = 0\n",
    "with open('README.md', 'r') as f:\n",
    "    for line in f:\n",
    "        result += len(splitter.findall(line))\n",
    "result"
   ]
  },
  {
   "cell_type": "markdown",
   "metadata": {},
   "source": [
    "### Example 2: background execution"
   ]
  },
  {
   "cell_type": "markdown",
   "metadata": {},
   "source": [
    "There are many tasks that take a while to complete, but don't actually require much of the CPU, for example anything that requires communication over a network, or input from a user. In typical sequential programming, execution would need to halt while the process completes, and then continue execution. That would be dreadful for user experience (imagine the slow progress bar that locks up the application and cannot be canceled), and wasteful of time (the CPU could have been doing useful work in the meantime).\n",
    "\n",
    "For example, we can launch processes and get their output as follows:\n",
    "```python\n",
    "    import subprocess\n",
    "    p = subprocess.Popen(command, stdout=subprocess.PIPE)\n",
    "    p.returncode\n",
    "```"
   ]
  },
  {
   "cell_type": "markdown",
   "metadata": {},
   "source": [
    "The task is run in a separate process, and the return-code will remain `None` until it completes, when it will change to `0`. To get the result back, we need `out = p.communicate()[0]` (which would block if the process was not complete)."
   ]
  },
  {
   "cell_type": "markdown",
   "metadata": {},
   "source": [
    "Similarly, we can launch Python processes and threads in the background. Some methods allow mapping over multiple inputs and gathering the results, more on that later.  The thread starts and the cell completes immediately, but the data associated with the download only appears in the queue object some time later."
   ]
  },
  {
   "cell_type": "code",
   "execution_count": 13,
   "metadata": {},
   "outputs": [
    {
     "data": {
      "text/plain": [
       "'http://www.google.com'"
      ]
     },
     "execution_count": 13,
     "metadata": {},
     "output_type": "execute_result"
    }
   ],
   "source": [
    "# Edit sources.py to configure source locations\n",
    "import sources\n",
    "sources.lazy_url"
   ]
  },
  {
   "cell_type": "code",
   "execution_count": 14,
   "metadata": {},
   "outputs": [],
   "source": [
    "import threading\n",
    "import queue\n",
    "import urllib\n",
    "\n",
    "def get_webdata(url, q):\n",
    "    u = urllib.request.urlopen(url)\n",
    "    # raise ValueError\n",
    "    q.put(u.read())\n",
    "\n",
    "q = queue.Queue()\n",
    "t = threading.Thread(target=get_webdata, args=(sources.lazy_url, q))\n",
    "t.start()"
   ]
  },
  {
   "cell_type": "code",
   "execution_count": 15,
   "metadata": {},
   "outputs": [
    {
     "data": {
      "text/plain": [
       "b'<!doctype html><html itemscope=\"\" itemtype=\"http://schema.org/WebPage\" lang=\"de\"><head><meta content=\"text/html; charset=UTF-8\" http-equiv=\"Content-Type\"><meta content=\"/logos/doodles/2021/celebrating-the-wadden-sea-6753651837108690-law.gif\" itemprop=\"image\"><meta content=\"Zu Ehren des Wattenmeers\" property=\"twitter:title\"><meta content=\"Zu Ehren des Wattenmeers #GoogleDoodle\" property=\"twitter:description\"><meta content=\"Zu Ehren des Wattenmeers #GoogleDoodle\" property=\"og:description\"><meta content=\"summary_large_image\" property=\"twitter:card\"><meta content=\"@GoogleDoodles\" property=\"twitter:site\"><meta content=\"https://www.google.com/logos/doodles/2021/celebrating-the-wadden-sea-6753651837108690-2xa.gif\" property=\"twitter:image\"><meta content=\"https://www.google.com/logos/doodles/2021/celebrating-the-wadden-sea-6753651837108690-2xa.gif\" property=\"og:image\"><meta content=\"986\" property=\"og:image:width\"><meta content=\"400\" property=\"og:image:height\"><meta content=\"https://www.google.com/logos/doodles/2021/celebrating-the-wadden-sea-6753651837108690-2xa.gif\" property=\"og:url\"><meta content=\"video.other\" property=\"og:type\"><title>Google</title><script nonce=\"ZFPMpNTzp1Qus9BfgD86pA==\">(function(){window.google={kEI:\\'y1TcYKWBKMfJkwXFmLIg\\',kEXPI:\\'0,772215,1,530320,56873,954,5105,206,4804,925,1391,383,246,5,1354,5251,16231,10,1106274,1197753,529,83,328902,51224,16114,6057,22627,17572,4858,1362,9291,3022,17586,4020,978,13228,3847,4192,6430,7432,7095,235,4284,2776,919,5081,1593,1279,2213,238,291,149,1103,840,1983,4314,3514,606,2023,2297,8847,5823,3227,419,2426,7,4773,826,6755,5096,598,7278,4929,108,3407,908,2,941,2614,3784,9358,1,2,346,230,6182,277,149,13975,4,1528,2304,1236,5803,4684,2014,4,13607,2726,2038,2658,4242,3115,30,13628,2305,638,1494,5586,10535,665,2522,3290,2545,4092,2,18,2238,883,5,908,3,3541,1,11943,2767,1814,283,38,351,2,1,3,517,5992,2466,4288,984,4788,2,1394,738,652,19,2,91,23,1281,711,1007,2,3054,2017,3422,105,30,1208,1,35,1,1345,1461,2679,592,627,518,387,2377,93,316,234,1780,1275,4172,406,1576,3,472,44,537,1065,3759,419,1546,2,1040,75,1085,1269,1802,1624,2,1331,672,503,937,757,183,749,648,177,4817,36,3,630,204,3,75,3714,2,4,935,685,58,1460,321,1740,372,4,9,3,1,955,356,168,69,1045,1310,155,2,269,2,1,9,43,2,1,9,39,58,2,438,521,1164,513,70,469,105,1076,275,5,178,166,303,2868,57,552,174,430,3,59,2,295,149,737,94,844,446,398,1105,5621682,194,32,63,157,58,2,5996809,2800696,882,444,1,2,80,1,1796,1,9,2,2551,1,748,141,795,563,1,4265,1,1,2,1331,3299,843,2609,155,17,13,72,139,4,2,20,2,169,13,19,46,5,39,96,548,29,2,2,1,2,1,2,2,7,4,1,2,2,2,2,2,2,353,222,8,283,186,1,1,25,9,10,4,4,2,14,19,16,5,23,1,1,2,12,6,5,3,2,2,2,2,2,4,2,3,3,21,23954971,2772894,84559,8573,1144247,268,1835,26467,2,2374,3,120,3,6,338,3,1839,501,74,539,478,763\\',kBL:\\'agTH\\'};google.sn=\\'webhp\\';google.kHL=\\'de\\';})();(function(){\\nvar f=this||self;var h,k=[];function l(a){for(var b;a&&(!a.getAttribute||!(b=a.getAttribute(\"eid\")));)a=a.parentNode;return b||h}function m(a){for(var b=null;a&&(!a.getAttribute||!(b=a.getAttribute(\"leid\")));)a=a.parentNode;return b}\\nfunction n(a,b,c,d,g){var e=\"\";c||-1!==b.search(\"&ei=\")||(e=\"&ei=\"+l(d),-1===b.search(\"&lei=\")&&(d=m(d))&&(e+=\"&lei=\"+d));d=\"\";!c&&f._cshid&&-1===b.search(\"&cshid=\")&&\"slh\"!==a&&(d=\"&cshid=\"+f._cshid);c=c||\"/\"+(g||\"gen_204\")+\"?atyp=i&ct=\"+a+\"&cad=\"+b+e+\"&zx=\"+Date.now()+d;/^http:/i.test(c)&&\"https:\"===window.location.protocol&&(google.ml&&google.ml(Error(\"a\"),!1,{src:c,glmm:1}),c=\"\");return c};h=google.kEI;google.getEI=l;google.getLEI=m;google.ml=function(){return null};google.log=function(a,b,c,d,g){if(c=n(a,b,c,d,g)){a=new Image;var e=k.length;k[e]=a;a.onerror=a.onload=a.onabort=function(){delete k[e]};a.src=c}};google.logUrl=n;}).call(this);(function(){\\ngoogle.y={};google.sy=[];google.x=function(a,b){if(a)var c=a.id;else{do c=Math.random();while(google.y[c])}google.y[c]=[a,b];return!1};google.sx=function(a){google.sy.push(a)};google.lm=[];google.plm=function(a){google.lm.push.apply(google.lm,a)};google.lq=[];google.load=function(a,b,c){google.lq.push([[a],b,c])};google.loadAll=function(a,b){google.lq.push([a,b])};google.bx=!1;google.lx=function(){};}).call(this);google.f={};(function(){\\ndocument.documentElement.addEventListener(\"submit\",function(b){var a;if(a=b.target){var c=a.getAttribute(\"data-submitfalse\");a=\"1\"==c||\"q\"==c&&!a.elements.q.value?!0:!1}else a=!1;a&&(b.preventDefault(),b.stopPropagation())},!0);document.documentElement.addEventListener(\"click\",function(b){var a;a:{for(a=b.target;a&&a!=document.documentElement;a=a.parentElement)if(\"A\"==a.tagName){a=\"1\"==a.getAttribute(\"data-nohref\");break a}a=!1}a&&b.preventDefault()},!0);}).call(this);</script><style>#gbar,#guser{font-size:13px;padding-top:1px !important;}#gbar{height:22px}#guser{padding-bottom:7px !important;text-align:right}.gbh,.gbd{border-top:1px solid #c9d7f1;font-size:1px}.gbh{height:0;position:absolute;top:24px;width:100%}@media all{.gb1{height:22px;margin-right:.5em;vertical-align:top}#gbar{float:left}}a.gb1,a.gb4{text-decoration:underline !important}a.gb1,a.gb4{color:#00c !important}.gbi .gb4{color:#dd8e27 !important}.gbf .gb4{color:#900 !important}\\n</style><style>body,td,a,p,.h{font-family:arial,sans-serif}body{margin:0;overflow-y:scroll}#gog{padding:3px 8px 0}td{line-height:.8em}.gac_m td{line-height:17px}form{margin-bottom:20px}.h{color:#1558d6}em{font-weight:bold;font-style:normal}.lst{height:25px;width:496px}.gsfi,.lst{font:18px arial,sans-serif}.gsfs{font:17px arial,sans-serif}.ds{display:inline-box;display:inline-block;margin:3px 0 4px;margin-left:4px}input{font-family:inherit}body{background:#fff;color:#000}a{color:#4b11a8;text-decoration:none}a:hover,a:active{text-decoration:underline}.fl a{color:#1558d6}a:visited{color:#4b11a8}.sblc{padding-top:5px}.sblc a{display:block;margin:2px 0;margin-left:13px;font-size:11px}.lsbb{background:#f8f9fa;border:solid 1px;border-color:#dadce0 #70757a #70757a #dadce0;height:30px}.lsbb{display:block}#WqQANb a{display:inline-block;margin:0 12px}.lsb{background:url(/images/nav_logo229.png) 0 -261px repeat-x;border:none;color:#000;cursor:pointer;height:30px;margin:0;outline:0;font:15px arial,sans-serif;vertical-align:top}.lsb:active{background:#dadce0}.lst:focus{outline:none}</style><script nonce=\"ZFPMpNTzp1Qus9BfgD86pA==\"></script></head><body bgcolor=\"#fff\"><script nonce=\"ZFPMpNTzp1Qus9BfgD86pA==\">(function(){var src=\\'/images/nav_logo229.png\\';var iesg=false;document.body.onload = function(){window.n && window.n();if (document.images){new Image().src=src;}\\nif (!iesg){document.f&&document.f.q.focus();document.gbqf&&document.gbqf.q.focus();}\\n}\\n})();</script><div id=\"mngb\"><div id=gbar><nobr><b class=gb1>Suche</b> <a class=gb1 href=\"http://www.google.de/imghp?hl=de&tab=wi\">Bilder</a> <a class=gb1 href=\"http://maps.google.de/maps?hl=de&tab=wl\">Maps</a> <a class=gb1 href=\"https://play.google.com/?hl=de&tab=w8\">Play</a> <a class=gb1 href=\"http://www.youtube.com/?gl=DE&tab=w1\">YouTube</a> <a class=gb1 href=\"https://news.google.com/?tab=wn\">News</a> <a class=gb1 href=\"https://mail.google.com/mail/?tab=wm\">Gmail</a> <a class=gb1 href=\"https://drive.google.com/?tab=wo\">Drive</a> <a class=gb1 style=\"text-decoration:none\" href=\"https://www.google.de/intl/de/about/products?tab=wh\"><u>Mehr</u> &raquo;</a></nobr></div><div id=guser width=100%><nobr><span id=gbn class=gbi></span><span id=gbf class=gbf></span><span id=gbe></span><a href=\"http://www.google.de/history/optout?hl=de\" class=gb4>Webprotokoll</a> | <a  href=\"/preferences?hl=de\" class=gb4>Einstellungen</a> | <a target=_top id=gb_70 href=\"https://accounts.google.com/ServiceLogin?hl=de&passive=true&continue=http://www.google.com/&ec=GAZAAQ\" class=gb4>Anmelden</a></nobr></div><div class=gbh style=left:0></div><div class=gbh style=right:0></div></div><center><br clear=\"all\" id=\"lgpd\"><div id=\"lga\"><a href=\"/search?ie=UTF-8&amp;q=Wattenmeer&amp;oi=ddle&amp;ct=146439463&amp;hl=de&amp;sa=X&amp;ved=0ahUKEwjlkoLnn7_xAhXH5KQKHUWMDAQQPQgD\"><img alt=\"Zu Ehren des Wattenmeers\" border=\"0\" height=\"200\" src=\"/logos/doodles/2021/celebrating-the-wadden-sea-6753651837108690-law.gif\" title=\"Zu Ehren des Wattenmeers\" width=\"493\" id=\"hplogo\"><br></a><br></div><form action=\"/search\" name=\"f\"><table cellpadding=\"0\" cellspacing=\"0\"><tr valign=\"top\"><td width=\"25%\">&nbsp;</td><td align=\"center\" nowrap=\"\"><input name=\"ie\" value=\"ISO-8859-1\" type=\"hidden\"><input value=\"de\" name=\"hl\" type=\"hidden\"><input name=\"source\" type=\"hidden\" value=\"hp\"><input name=\"biw\" type=\"hidden\"><input name=\"bih\" type=\"hidden\"><div class=\"ds\" style=\"height:32px;margin:4px 0\"><input class=\"lst\" style=\"margin:0;padding:5px 8px 0 6px;vertical-align:top;color:#000\" autocomplete=\"off\" value=\"\" title=\"Google Suche\" maxlength=\"2048\" name=\"q\" size=\"57\"></div><br style=\"line-height:0\"><span class=\"ds\"><span class=\"lsbb\"><input class=\"lsb\" value=\"Google Suche\" name=\"btnG\" type=\"submit\"></span></span><span class=\"ds\"><span class=\"lsbb\"><input class=\"lsb\" id=\"tsuid1\" value=\"Auf gut Gl\\xfcck!\" name=\"btnI\" type=\"submit\"><script nonce=\"ZFPMpNTzp1Qus9BfgD86pA==\">(function(){var id=\\'tsuid1\\';document.getElementById(id).onclick = function(){if (this.form.q.value){this.checked = 1;if (this.form.iflsig)this.form.iflsig.disabled = false;}\\nelse top.location=\\'/doodles/\\';};})();</script><input value=\"AINFCbYAAAAAYNxi2-szbIIW7xpGDJaoV0WSjqMLrfxk\" name=\"iflsig\" type=\"hidden\"></span></span></td><td class=\"fl sblc\" align=\"left\" nowrap=\"\" width=\"25%\"><a href=\"/advanced_search?hl=de&amp;authuser=0\">Erweiterte Suche</a></td></tr></table><input id=\"gbv\" name=\"gbv\" type=\"hidden\" value=\"1\"><script nonce=\"ZFPMpNTzp1Qus9BfgD86pA==\">(function(){\\nvar a,b=\"1\";if(document&&document.getElementById)if(\"undefined\"!=typeof XMLHttpRequest)b=\"2\";else if(\"undefined\"!=typeof ActiveXObject){var c,d,e=[\"MSXML2.XMLHTTP.6.0\",\"MSXML2.XMLHTTP.3.0\",\"MSXML2.XMLHTTP\",\"Microsoft.XMLHTTP\"];for(c=0;d=e[c++];)try{new ActiveXObject(d),b=\"2\"}catch(h){}}a=b;if(\"2\"==a&&-1==location.search.indexOf(\"&gbv=2\")){var f=google.gbvu,g=document.getElementById(\"gbv\");g&&(g.value=a);f&&window.setTimeout(function(){location.href=f},0)};}).call(this);</script></form><div id=\"gac_scont\"></div><div style=\"font-size:83%;min-height:3.5em\"><br></div><span id=\"footer\"><div style=\"font-size:10pt\"><div style=\"margin:19px auto;text-align:center\" id=\"WqQANb\"><a href=\"/intl/de/ads/\">Werben mit Google</a><a href=\"/services/\">Unternehmensangebote</a><a href=\"/intl/de/about.html\">\\xdcber Google</a><a href=\"http://www.google.com/setprefdomain?prefdom=DE&amp;prev=http://www.google.de/&amp;sig=K_wJnFRUgYEwAzKBKDS4_q97RSRDc%3D\">Google.de</a></div></div><p style=\"font-size:8pt;color:#70757a\">&copy; 2021 - <a href=\"/intl/de/policies/privacy/\">Datenschutzerkl\\xe4rung</a> - <a href=\"/intl/de/policies/terms/\">Nutzungsbedingungen</a></p></span></center><script nonce=\"ZFPMpNTzp1Qus9BfgD86pA==\">(function(){window.google.cdo={height:757,width:1440};(function(){\\nvar a=window.innerWidth,b=window.innerHeight;if(!a||!b){var c=window.document,d=\"CSS1Compat\"==c.compatMode?c.documentElement:c.body;a=d.clientWidth;b=d.clientHeight}a&&b&&(a!=google.cdo.width||b!=google.cdo.height)&&google.log(\"\",\"\",\"/client_204?&atyp=i&biw=\"+a+\"&bih=\"+b+\"&ei=\"+google.kEI);}).call(this);})();</script> <script nonce=\"ZFPMpNTzp1Qus9BfgD86pA==\">(function(){google.xjs={ck:\\'\\',cs:\\'\\',excm:[],pml:false};})();</script>  <script nonce=\"ZFPMpNTzp1Qus9BfgD86pA==\">(function(){var u=\\'/xjs/_/js/k\\\\x3dxjs.hp.en.JRh4tN6N9QQ.O/m\\\\x3dsb_he,d/am\\\\x3dAHgCLA/d\\\\x3d1/ed\\\\x3d1/rs\\\\x3dACT90oGYDOHwsB3rPn3m-ZHj8pe2l1LEYg\\';\\nvar e=this||self,f=function(a){return a};var g;var l=function(a,b){this.g=b===h?a:\"\"};l.prototype.toString=function(){return this.g+\"\"};var h={};function m(){var a=u;google.lx=function(){n(a);google.lx=function(){}};google.bx||google.lx()}\\nfunction n(a){google.timers&&google.timers.load&&google.tick&&google.tick(\"load\",\"xjsls\");var b=document;var c=\"SCRIPT\";\"application/xhtml+xml\"===b.contentType&&(c=c.toLowerCase());c=b.createElement(c);if(void 0===g){b=null;var k=e.trustedTypes;if(k&&k.createPolicy){try{b=k.createPolicy(\"goog#html\",{createHTML:f,createScript:f,createScriptURL:f})}catch(p){e.console&&e.console.error(p.message)}g=b}else g=b}a=(b=g)?b.createScriptURL(a):a;a=new l(a,h);c.src=a instanceof l&&a.constructor===l?a.g:\"type_error:TrustedResourceUrl\";var d;a=(c.ownerDocument&&c.ownerDocument.defaultView||window).document;(d=(a=null===(d=a.querySelector)||void 0===d?void 0:d.call(a,\"script[nonce]\"))?a.nonce||a.getAttribute(\"nonce\")||\"\":\"\")&&c.setAttribute(\"nonce\",d);document.body.appendChild(c);google.psa=!0};setTimeout(function(){m()},0);})();(function(){window.google.xjsu=\\'/xjs/_/js/k\\\\x3dxjs.hp.en.JRh4tN6N9QQ.O/m\\\\x3dsb_he,d/am\\\\x3dAHgCLA/d\\\\x3d1/ed\\\\x3d1/rs\\\\x3dACT90oGYDOHwsB3rPn3m-ZHj8pe2l1LEYg\\';})();function _DumpException(e){throw e;}\\nfunction _F_installCss(c){}\\n(function(){google.jl={attn:false,blt:\\'none\\',dw:false,emtn:0,ine:false,lls:\\'default\\',pdt:0,snet:true,ubm:false,uwp:true};})();(function(){var pmc=\\'{\\\\x22d\\\\x22:{},\\\\x22sb_he\\\\x22:{\\\\x22agen\\\\x22:true,\\\\x22cgen\\\\x22:true,\\\\x22client\\\\x22:\\\\x22heirloom-hp\\\\x22,\\\\x22dh\\\\x22:true,\\\\x22dhqt\\\\x22:true,\\\\x22ds\\\\x22:\\\\x22\\\\x22,\\\\x22ffql\\\\x22:\\\\x22de\\\\x22,\\\\x22fl\\\\x22:true,\\\\x22host\\\\x22:\\\\x22google.com\\\\x22,\\\\x22isbh\\\\x22:28,\\\\x22jsonp\\\\x22:true,\\\\x22lm\\\\x22:true,\\\\x22msgs\\\\x22:{\\\\x22cibl\\\\x22:\\\\x22Suche l\\xf6schen\\\\x22,\\\\x22dym\\\\x22:\\\\x22Meintest du:\\\\x22,\\\\x22lcky\\\\x22:\\\\x22Auf gut Gl\\xfcck!\\\\x22,\\\\x22lml\\\\x22:\\\\x22Weitere Informationen\\\\x22,\\\\x22oskt\\\\x22:\\\\x22Eingabetools\\\\x22,\\\\x22psrc\\\\x22:\\\\x22Diese Suchanfrage wurde aus deinem \\\\\\\\u003Ca href\\\\x3d\\\\\\\\\\\\x22/history\\\\\\\\\\\\x22\\\\\\\\u003EWebprotokoll\\\\\\\\u003C/a\\\\\\\\u003E entfernt.\\\\x22,\\\\x22psrl\\\\x22:\\\\x22Entfernen\\\\x22,\\\\x22sbit\\\\x22:\\\\x22Bildersuche\\\\x22,\\\\x22srch\\\\x22:\\\\x22Google Suche\\\\x22},\\\\x22nrft\\\\x22:false,\\\\x22ovr\\\\x22:{},\\\\x22pq\\\\x22:\\\\x22\\\\x22,\\\\x22refpd\\\\x22:true,\\\\x22rfs\\\\x22:[],\\\\x22sbas\\\\x22:\\\\x220 3px 8px 0 rgba(0,0,0,0.2),0 0 0 1px rgba(0,0,0,0.08)\\\\x22,\\\\x22sbpl\\\\x22:16,\\\\x22sbpr\\\\x22:16,\\\\x22scd\\\\x22:10,\\\\x22stok\\\\x22:\\\\x22L6_rdBQjUJHDrZsIv4mOL5gA9bc\\\\x22,\\\\x22uhde\\\\x22:false}}\\';google.pmc=JSON.parse(pmc);})();</script>        </body></html>'"
      ]
     },
     "execution_count": 15,
     "metadata": {},
     "output_type": "execute_result"
    }
   ],
   "source": [
    "# fetch result back into this thread. If the worker thread is not done, this would wait.\n",
    "q.get()"
   ]
  },
  {
   "cell_type": "markdown",
   "metadata": {},
   "source": [
    "Consider: what would you see if there had been an exception within the `get_webdata` function? You could uncomment the `raise` line, above, and re-execute the two cells. What happens? Is there any way to debug the execution to find the root cause of the error?"
   ]
  },
  {
   "cell_type": "markdown",
   "metadata": {},
   "source": [
    "### Example 3: delayed execution"
   ]
  },
  {
   "cell_type": "markdown",
   "metadata": {},
   "source": [
    "There are many ways in Python to specify the computation you want to execute, but only run it *later*."
   ]
  },
  {
   "cell_type": "code",
   "execution_count": 16,
   "metadata": {},
   "outputs": [
    {
     "data": {
      "text/plain": [
       "45"
      ]
     },
     "execution_count": 16,
     "metadata": {},
     "output_type": "execute_result"
    }
   ],
   "source": [
    "def add(x, y):\n",
    "    return x + y\n",
    "\n",
    "# Sometimes we defer computations with strings\n",
    "x = 15\n",
    "y = 30\n",
    "z = \"add(x, y)\"\n",
    "eval(z)"
   ]
  },
  {
   "cell_type": "code",
   "execution_count": 17,
   "metadata": {},
   "outputs": [
    {
     "data": {
      "text/plain": [
       "45"
      ]
     },
     "execution_count": 17,
     "metadata": {},
     "output_type": "execute_result"
    }
   ],
   "source": [
    "# we can use lambda or other \"closure\"\n",
    "x = 15\n",
    "y = 30\n",
    "z = lambda: add(x, y)\n",
    "z()"
   ]
  },
  {
   "cell_type": "code",
   "execution_count": 18,
   "metadata": {},
   "outputs": [
    {
     "data": {
      "text/plain": [
       "45"
      ]
     },
     "execution_count": 18,
     "metadata": {},
     "output_type": "execute_result"
    }
   ],
   "source": [
    "# A very similar thing happens in functools.partial\n",
    "\n",
    "import functools\n",
    "z = functools.partial(add, x, y)\n",
    "z()"
   ]
  },
  {
   "cell_type": "code",
   "execution_count": 19,
   "metadata": {},
   "outputs": [],
   "source": [
    "# Python generators are delayed execution by default\n",
    "# Many Python functions expect such iterable objects\n",
    "\n",
    "def gen():\n",
    "    res = x\n",
    "    yield res\n",
    "    res += y\n",
    "    yield res\n",
    "\n",
    "g = gen()"
   ]
  },
  {
   "cell_type": "code",
   "execution_count": 20,
   "metadata": {},
   "outputs": [
    {
     "data": {
      "text/plain": [
       "15"
      ]
     },
     "execution_count": 20,
     "metadata": {},
     "output_type": "execute_result"
    }
   ],
   "source": [
    "# run once: we get one value and execution halts within the generator\n",
    "# run again and the execution completes\n",
    "next(g)"
   ]
  },
  {
   "cell_type": "markdown",
   "metadata": {},
   "source": [
    "### Dask graphs"
   ]
  },
  {
   "cell_type": "markdown",
   "metadata": {},
   "source": [
    "Any Dask object, such as `total`, above, has an attribute which describes the calculations necessary to produce that result. Indeed, this is exactly the graph that we have been talking about, which can be visualized. We see that it is a simple dictionary, in which the keys are unique task identifiers, and the values are the functions and inputs for calculation.\n",
    "\n",
    "`delayed` is a handy mechanism for creating the Dask graph, but the adventurous may wish to play with the full fexibility afforded by building the graph dictionaries directly. Detailed information can be found [here](http://dask.pydata.org/en/latest/graphs.html)."
   ]
  },
  {
   "cell_type": "code",
   "execution_count": 21,
   "metadata": {},
   "outputs": [
    {
     "data": {
      "text/html": [
       "\n",
       "            <div>\n",
       "                <div>\n",
       "                    <div style=\"width: 52px; height: 52px; position: absolute;\">\n",
       "                        \n",
       "            <svg width=\"76\" height=\"71\" viewBox=\"0 0 76 71\" fill=\"none\" xmlns=\"http://www.w3.org/2000/svg\">\n",
       "                <circle cx=\"61.5\" cy=\"36.5\" r=\"13.5\"\n",
       "                    style=\"stroke: var(--jp-ui-font-color2, #1D1D1D); fill: var(--jp-layout-color1, #F2F2F2);\"\n",
       "                    stroke-width=\"2\"/>\n",
       "                <circle cx=\"14.5\" cy=\"14.5\" r=\"13.5\"\n",
       "                    style=\"stroke: var(--jp-ui-font-color2, #1D1D1D); fill: var(--jp-layout-color1, #F2F2F2);\"\n",
       "                    stroke-width=\"2\"/>\n",
       "                <circle cx=\"14.5\" cy=\"56.5\" r=\"13.5\"\n",
       "                    style=\"stroke: var(--jp-ui-font-color2, #1D1D1D); fill: var(--jp-layout-color1, #F2F2F2);\"\n",
       "                    stroke-width=\"2\"/>\n",
       "                <path d=\"M28 16L30.5 16C33.2614 16 35.5 18.2386 35.5 21L35.5 32.0001C35.5 34.7615 37.7386\n",
       "                    37.0001 40.5 37.0001L43 37.0001\" style=\"stroke: var(--jp-ui-font-color2, #1D1D1D);\"\n",
       "                    stroke-width=\"1.5\"/>\n",
       "                <path d=\"M40.5 37L40.5 37.75L40.5 37.75L40.5 37ZM35.5 42L36.25 42L35.5 42ZM35.5 52L34.75\n",
       "                    52L35.5 52ZM30.5 57L30.5 57.75L30.5 57ZM41.5001 36.25L40.5 36.25L40.5 37.75L41.5001\n",
       "                    37.75L41.5001 36.25ZM34.75 42L34.75 52L36.25 52L36.25 42L34.75 42ZM30.5 56.25L28.0001\n",
       "                    56.25L28.0001 57.75L30.5 57.75L30.5 56.25ZM34.75 52C34.75 54.3472 32.8472 56.25 30.5\n",
       "                    56.25L30.5 57.75C33.6756 57.75 36.25 55.1756 36.25 52L34.75 52ZM40.5 36.25C37.3244 36.25\n",
       "                    34.75 38.8243 34.75 42L36.25 42C36.25 39.6528 38.1528 37.75 40.5 37.75L40.5 36.25Z\"\n",
       "                    style=\"fill: var(--jp-ui-font-color2, #1D1D1D);\"/>\n",
       "                <circle cx=\"28\" cy=\"16\" r=\"2.25\" fill=\"#E5E5E5\"\n",
       "                    style=\"stroke: var(--jp-ui-font-color2, #1D1D1D);\" stroke-width=\"1.5\"/>\n",
       "                <circle cx=\"28\" cy=\"57\" r=\"2.25\" fill=\"#E5E5E5\"\n",
       "                    style=\"stroke: var(--jp-ui-font-color2, #1D1D1D);\" stroke-width=\"1.5\"/>\n",
       "                <path d=\"M45.25 36.567C45.5833 36.7594 45.5833 37.2406 45.25 37.433L42.25 39.1651C41.9167\n",
       "                    39.3575 41.5 39.117 41.5 38.7321V35.2679C41.5 34.883 41.9167 34.6425 42.25 34.8349L45.25\n",
       "                    36.567Z\" style=\"fill: var(--jp-ui-font-color2, #1D1D1D);\"/>\n",
       "            </svg>\n",
       "        \n",
       "                    </div>\n",
       "                    <div style=\"margin-left: 64px;\">\n",
       "                        <h3 style=\"margin-bottom: 0px;\">HighLevelGraph</h3>\n",
       "                        <p style=\"color: var(--jp-ui-font-color2, #5D5851); margin-bottom:0px;\">\n",
       "                            HighLevelGraph with 7 layers.\n",
       "                        </p>\n",
       "                        \n",
       "            <div style=\"\">\n",
       "                \n",
       "            <svg width=\"24\" height=\"24\" viewBox=\"0 0 32 32\" fill=\"none\"\n",
       "                xmlns=\"http://www.w3.org/2000/svg\" style=\"position: absolute;\">\n",
       "                <circle cx=\"16\" cy=\"16\" r=\"14\" fill=\"#8F8F8F\"\n",
       "                    style=\"stroke: var(--jp-ui-font-color2, #1D1D1D);\" stroke-width=\"2\"/>\n",
       "            </svg>\n",
       "        \n",
       "                <details style=\"margin-left: 32px;\">\n",
       "                    <summary style=\"margin-bottom: 10px; margin-top: 10px;\">\n",
       "                        <h4 style=\"display: inline;\">Layer 0: read_csv</h4>\n",
       "                    </summary>\n",
       "                    <p style=\"color: var(--jp-ui-font-color2, #5D5851); margin: -0.25em 0px 0px 0px;\">\n",
       "                        read_csv-03125662-9cae-498b-a720-0e736fb7660f\n",
       "                    </p>\n",
       "                    <table style=\"width: 100%;\">\n",
       "          <tr>\n",
       "            <th style=\"text-align: left; width: 150px;\">layer_type</th>\n",
       "            <td style=\"text-align: left;\">MaterializedLayer</td>\n",
       "          </tr>\n",
       "        \n",
       "          <tr>\n",
       "            <th style=\"text-align: left; width: 150px;\">is_materialized</th>\n",
       "            <td style=\"text-align: left;\">True</td>\n",
       "          </tr>\n",
       "        </table>\n",
       "                </details>\n",
       "            </div>\n",
       "            \n",
       "            <div style=\"\">\n",
       "                \n",
       "            <svg width=\"24\" height=\"24\" viewBox=\"0 0 32 32\" fill=\"none\"\n",
       "                xmlns=\"http://www.w3.org/2000/svg\" style=\"position: absolute;\">\n",
       "                <circle cx=\"16\" cy=\"16\" r=\"14\" fill=\"#8F8F8F\"\n",
       "                    style=\"stroke: var(--jp-ui-font-color2, #1D1D1D);\" stroke-width=\"2\"/>\n",
       "            </svg>\n",
       "        \n",
       "                <details style=\"margin-left: 32px;\">\n",
       "                    <summary style=\"margin-bottom: 10px; margin-top: 10px;\">\n",
       "                        <h4 style=\"display: inline;\">Layer 1: len</h4>\n",
       "                    </summary>\n",
       "                    <p style=\"color: var(--jp-ui-font-color2, #5D5851); margin: -0.25em 0px 0px 0px;\">\n",
       "                        len-47f9a3a5-9792-406e-9272-b680ed432978\n",
       "                    </p>\n",
       "                    <table style=\"width: 100%;\">\n",
       "          <tr>\n",
       "            <th style=\"text-align: left; width: 150px;\">layer_type</th>\n",
       "            <td style=\"text-align: left;\">MaterializedLayer</td>\n",
       "          </tr>\n",
       "        \n",
       "          <tr>\n",
       "            <th style=\"text-align: left; width: 150px;\">is_materialized</th>\n",
       "            <td style=\"text-align: left;\">True</td>\n",
       "          </tr>\n",
       "        </table>\n",
       "                </details>\n",
       "            </div>\n",
       "            \n",
       "            <div style=\"\">\n",
       "                \n",
       "            <svg width=\"24\" height=\"24\" viewBox=\"0 0 32 32\" fill=\"none\"\n",
       "                xmlns=\"http://www.w3.org/2000/svg\" style=\"position: absolute;\">\n",
       "                <circle cx=\"16\" cy=\"16\" r=\"14\" fill=\"#8F8F8F\"\n",
       "                    style=\"stroke: var(--jp-ui-font-color2, #1D1D1D);\" stroke-width=\"2\"/>\n",
       "            </svg>\n",
       "        \n",
       "                <details style=\"margin-left: 32px;\">\n",
       "                    <summary style=\"margin-bottom: 10px; margin-top: 10px;\">\n",
       "                        <h4 style=\"display: inline;\">Layer 2: read_csv</h4>\n",
       "                    </summary>\n",
       "                    <p style=\"color: var(--jp-ui-font-color2, #5D5851); margin: -0.25em 0px 0px 0px;\">\n",
       "                        read_csv-d72b6e7a-e2c8-4bab-be58-3488737501a1\n",
       "                    </p>\n",
       "                    <table style=\"width: 100%;\">\n",
       "          <tr>\n",
       "            <th style=\"text-align: left; width: 150px;\">layer_type</th>\n",
       "            <td style=\"text-align: left;\">MaterializedLayer</td>\n",
       "          </tr>\n",
       "        \n",
       "          <tr>\n",
       "            <th style=\"text-align: left; width: 150px;\">is_materialized</th>\n",
       "            <td style=\"text-align: left;\">True</td>\n",
       "          </tr>\n",
       "        </table>\n",
       "                </details>\n",
       "            </div>\n",
       "            \n",
       "            <div style=\"\">\n",
       "                \n",
       "            <svg width=\"24\" height=\"24\" viewBox=\"0 0 32 32\" fill=\"none\"\n",
       "                xmlns=\"http://www.w3.org/2000/svg\" style=\"position: absolute;\">\n",
       "                <circle cx=\"16\" cy=\"16\" r=\"14\" fill=\"#8F8F8F\"\n",
       "                    style=\"stroke: var(--jp-ui-font-color2, #1D1D1D);\" stroke-width=\"2\"/>\n",
       "            </svg>\n",
       "        \n",
       "                <details style=\"margin-left: 32px;\">\n",
       "                    <summary style=\"margin-bottom: 10px; margin-top: 10px;\">\n",
       "                        <h4 style=\"display: inline;\">Layer 3: len</h4>\n",
       "                    </summary>\n",
       "                    <p style=\"color: var(--jp-ui-font-color2, #5D5851); margin: -0.25em 0px 0px 0px;\">\n",
       "                        len-dec61180-80fa-41cb-bc6f-bd6cb08f9c97\n",
       "                    </p>\n",
       "                    <table style=\"width: 100%;\">\n",
       "          <tr>\n",
       "            <th style=\"text-align: left; width: 150px;\">layer_type</th>\n",
       "            <td style=\"text-align: left;\">MaterializedLayer</td>\n",
       "          </tr>\n",
       "        \n",
       "          <tr>\n",
       "            <th style=\"text-align: left; width: 150px;\">is_materialized</th>\n",
       "            <td style=\"text-align: left;\">True</td>\n",
       "          </tr>\n",
       "        </table>\n",
       "                </details>\n",
       "            </div>\n",
       "            \n",
       "            <div style=\"\">\n",
       "                \n",
       "            <svg width=\"24\" height=\"24\" viewBox=\"0 0 32 32\" fill=\"none\"\n",
       "                xmlns=\"http://www.w3.org/2000/svg\" style=\"position: absolute;\">\n",
       "                <circle cx=\"16\" cy=\"16\" r=\"14\" fill=\"#8F8F8F\"\n",
       "                    style=\"stroke: var(--jp-ui-font-color2, #1D1D1D);\" stroke-width=\"2\"/>\n",
       "            </svg>\n",
       "        \n",
       "                <details style=\"margin-left: 32px;\">\n",
       "                    <summary style=\"margin-bottom: 10px; margin-top: 10px;\">\n",
       "                        <h4 style=\"display: inline;\">Layer 4: read_csv</h4>\n",
       "                    </summary>\n",
       "                    <p style=\"color: var(--jp-ui-font-color2, #5D5851); margin: -0.25em 0px 0px 0px;\">\n",
       "                        read_csv-b686c0e5-8e89-4f24-8450-83f021903728\n",
       "                    </p>\n",
       "                    <table style=\"width: 100%;\">\n",
       "          <tr>\n",
       "            <th style=\"text-align: left; width: 150px;\">layer_type</th>\n",
       "            <td style=\"text-align: left;\">MaterializedLayer</td>\n",
       "          </tr>\n",
       "        \n",
       "          <tr>\n",
       "            <th style=\"text-align: left; width: 150px;\">is_materialized</th>\n",
       "            <td style=\"text-align: left;\">True</td>\n",
       "          </tr>\n",
       "        </table>\n",
       "                </details>\n",
       "            </div>\n",
       "            \n",
       "            <div style=\"\">\n",
       "                \n",
       "            <svg width=\"24\" height=\"24\" viewBox=\"0 0 32 32\" fill=\"none\"\n",
       "                xmlns=\"http://www.w3.org/2000/svg\" style=\"position: absolute;\">\n",
       "                <circle cx=\"16\" cy=\"16\" r=\"14\" fill=\"#8F8F8F\"\n",
       "                    style=\"stroke: var(--jp-ui-font-color2, #1D1D1D);\" stroke-width=\"2\"/>\n",
       "            </svg>\n",
       "        \n",
       "                <details style=\"margin-left: 32px;\">\n",
       "                    <summary style=\"margin-bottom: 10px; margin-top: 10px;\">\n",
       "                        <h4 style=\"display: inline;\">Layer 5: len</h4>\n",
       "                    </summary>\n",
       "                    <p style=\"color: var(--jp-ui-font-color2, #5D5851); margin: -0.25em 0px 0px 0px;\">\n",
       "                        len-766d78d3-5eca-4388-a63d-3a9e39b9aae5\n",
       "                    </p>\n",
       "                    <table style=\"width: 100%;\">\n",
       "          <tr>\n",
       "            <th style=\"text-align: left; width: 150px;\">layer_type</th>\n",
       "            <td style=\"text-align: left;\">MaterializedLayer</td>\n",
       "          </tr>\n",
       "        \n",
       "          <tr>\n",
       "            <th style=\"text-align: left; width: 150px;\">is_materialized</th>\n",
       "            <td style=\"text-align: left;\">True</td>\n",
       "          </tr>\n",
       "        </table>\n",
       "                </details>\n",
       "            </div>\n",
       "            \n",
       "            <div style=\"\">\n",
       "                \n",
       "            <svg width=\"24\" height=\"24\" viewBox=\"0 0 32 32\" fill=\"none\"\n",
       "                xmlns=\"http://www.w3.org/2000/svg\" style=\"position: absolute;\">\n",
       "                <circle cx=\"16\" cy=\"16\" r=\"14\" fill=\"#8F8F8F\"\n",
       "                    style=\"stroke: var(--jp-ui-font-color2, #1D1D1D);\" stroke-width=\"2\"/>\n",
       "            </svg>\n",
       "        \n",
       "                <details style=\"margin-left: 32px;\">\n",
       "                    <summary style=\"margin-bottom: 10px; margin-top: 10px;\">\n",
       "                        <h4 style=\"display: inline;\">Layer 6: sum</h4>\n",
       "                    </summary>\n",
       "                    <p style=\"color: var(--jp-ui-font-color2, #5D5851); margin: -0.25em 0px 0px 0px;\">\n",
       "                        sum-daef3179-c630-4073-9a6c-33229cea20a6\n",
       "                    </p>\n",
       "                    <table style=\"width: 100%;\">\n",
       "          <tr>\n",
       "            <th style=\"text-align: left; width: 150px;\">layer_type</th>\n",
       "            <td style=\"text-align: left;\">MaterializedLayer</td>\n",
       "          </tr>\n",
       "        \n",
       "          <tr>\n",
       "            <th style=\"text-align: left; width: 150px;\">is_materialized</th>\n",
       "            <td style=\"text-align: left;\">True</td>\n",
       "          </tr>\n",
       "        </table>\n",
       "                </details>\n",
       "            </div>\n",
       "            \n",
       "                    </div>\n",
       "                </div>\n",
       "            </div>\n",
       "        "
      ],
      "text/plain": [
       "HighLevelGraph with 7 layers.\n",
       "<dask.highlevelgraph.HighLevelGraph object at 0x7fc89f928520>\n",
       " 0. read_csv-03125662-9cae-498b-a720-0e736fb7660f\n",
       " 1. len-47f9a3a5-9792-406e-9272-b680ed432978\n",
       " 2. read_csv-d72b6e7a-e2c8-4bab-be58-3488737501a1\n",
       " 3. len-dec61180-80fa-41cb-bc6f-bd6cb08f9c97\n",
       " 4. read_csv-b686c0e5-8e89-4f24-8450-83f021903728\n",
       " 5. len-766d78d3-5eca-4388-a63d-3a9e39b9aae5\n",
       " 6. sum-daef3179-c630-4073-9a6c-33229cea20a6"
      ]
     },
     "execution_count": 21,
     "metadata": {},
     "output_type": "execute_result"
    }
   ],
   "source": [
    "total.dask"
   ]
  },
  {
   "cell_type": "code",
   "execution_count": 22,
   "metadata": {},
   "outputs": [
    {
     "data": {
      "text/plain": [
       "{'sum-daef3179-c630-4073-9a6c-33229cea20a6': (<function sum(iterable, /, start=0)>,\n",
       "  ['len-766d78d3-5eca-4388-a63d-3a9e39b9aae5',\n",
       "   'len-dec61180-80fa-41cb-bc6f-bd6cb08f9c97',\n",
       "   'len-47f9a3a5-9792-406e-9272-b680ed432978']),\n",
       " 'read_csv-b686c0e5-8e89-4f24-8450-83f021903728': (<function dask.utils.apply(func, args, kwargs=None)>,\n",
       "  <function pandas.io.parsers.read_csv(filepath_or_buffer: Union[ForwardRef('PathLike[str]'), str, IO[~T], io.RawIOBase, io.BufferedIOBase, io.TextIOBase, _io.TextIOWrapper, mmap.mmap], sep=<object object at 0x7fc944141770>, delimiter=None, header='infer', names=None, index_col=None, usecols=None, squeeze=False, prefix=None, mangle_dupe_cols=True, dtype=None, engine=None, converters=None, true_values=None, false_values=None, skipinitialspace=False, skiprows=None, skipfooter=0, nrows=None, na_values=None, keep_default_na=True, na_filter=True, verbose=False, skip_blank_lines=True, parse_dates=False, infer_datetime_format=False, keep_date_col=False, date_parser=None, dayfirst=False, cache_dates=True, iterator=False, chunksize=None, compression='infer', thousands=None, decimal: str = '.', lineterminator=None, quotechar='\"', quoting=0, doublequote=True, escapechar=None, comment=None, encoding=None, dialect=None, error_bad_lines=True, warn_bad_lines=True, delim_whitespace=False, low_memory=True, memory_map=False, float_precision=None, storage_options: Optional[Dict[str, Any]] = None)>,\n",
       "  ['s3://sci-data/dask-tutorial-data/accounts.0.csv'],\n",
       "  (dict,\n",
       "   [['storage_options',\n",
       "     (dict,\n",
       "      [['anon', True],\n",
       "       ['client_kwargs',\n",
       "        (dict, [['endpoint_url', 'http://minio.minio:9000']])]])]])),\n",
       " 'len-766d78d3-5eca-4388-a63d-3a9e39b9aae5': (<function len(obj, /)>,\n",
       "  'read_csv-b686c0e5-8e89-4f24-8450-83f021903728'),\n",
       " 'read_csv-d72b6e7a-e2c8-4bab-be58-3488737501a1': (<function dask.utils.apply(func, args, kwargs=None)>,\n",
       "  <function pandas.io.parsers.read_csv(filepath_or_buffer: Union[ForwardRef('PathLike[str]'), str, IO[~T], io.RawIOBase, io.BufferedIOBase, io.TextIOBase, _io.TextIOWrapper, mmap.mmap], sep=<object object at 0x7fc944141770>, delimiter=None, header='infer', names=None, index_col=None, usecols=None, squeeze=False, prefix=None, mangle_dupe_cols=True, dtype=None, engine=None, converters=None, true_values=None, false_values=None, skipinitialspace=False, skiprows=None, skipfooter=0, nrows=None, na_values=None, keep_default_na=True, na_filter=True, verbose=False, skip_blank_lines=True, parse_dates=False, infer_datetime_format=False, keep_date_col=False, date_parser=None, dayfirst=False, cache_dates=True, iterator=False, chunksize=None, compression='infer', thousands=None, decimal: str = '.', lineterminator=None, quotechar='\"', quoting=0, doublequote=True, escapechar=None, comment=None, encoding=None, dialect=None, error_bad_lines=True, warn_bad_lines=True, delim_whitespace=False, low_memory=True, memory_map=False, float_precision=None, storage_options: Optional[Dict[str, Any]] = None)>,\n",
       "  ['s3://sci-data/dask-tutorial-data/accounts.1.csv'],\n",
       "  (dict,\n",
       "   [['storage_options',\n",
       "     (dict,\n",
       "      [['anon', True],\n",
       "       ['client_kwargs',\n",
       "        (dict, [['endpoint_url', 'http://minio.minio:9000']])]])]])),\n",
       " 'len-dec61180-80fa-41cb-bc6f-bd6cb08f9c97': (<function len(obj, /)>,\n",
       "  'read_csv-d72b6e7a-e2c8-4bab-be58-3488737501a1'),\n",
       " 'read_csv-03125662-9cae-498b-a720-0e736fb7660f': (<function dask.utils.apply(func, args, kwargs=None)>,\n",
       "  <function pandas.io.parsers.read_csv(filepath_or_buffer: Union[ForwardRef('PathLike[str]'), str, IO[~T], io.RawIOBase, io.BufferedIOBase, io.TextIOBase, _io.TextIOWrapper, mmap.mmap], sep=<object object at 0x7fc944141770>, delimiter=None, header='infer', names=None, index_col=None, usecols=None, squeeze=False, prefix=None, mangle_dupe_cols=True, dtype=None, engine=None, converters=None, true_values=None, false_values=None, skipinitialspace=False, skiprows=None, skipfooter=0, nrows=None, na_values=None, keep_default_na=True, na_filter=True, verbose=False, skip_blank_lines=True, parse_dates=False, infer_datetime_format=False, keep_date_col=False, date_parser=None, dayfirst=False, cache_dates=True, iterator=False, chunksize=None, compression='infer', thousands=None, decimal: str = '.', lineterminator=None, quotechar='\"', quoting=0, doublequote=True, escapechar=None, comment=None, encoding=None, dialect=None, error_bad_lines=True, warn_bad_lines=True, delim_whitespace=False, low_memory=True, memory_map=False, float_precision=None, storage_options: Optional[Dict[str, Any]] = None)>,\n",
       "  ['s3://sci-data/dask-tutorial-data/accounts.2.csv'],\n",
       "  (dict,\n",
       "   [['storage_options',\n",
       "     (dict,\n",
       "      [['anon', True],\n",
       "       ['client_kwargs',\n",
       "        (dict, [['endpoint_url', 'http://minio.minio:9000']])]])]])),\n",
       " 'len-47f9a3a5-9792-406e-9272-b680ed432978': (<function len(obj, /)>,\n",
       "  'read_csv-03125662-9cae-498b-a720-0e736fb7660f')}"
      ]
     },
     "execution_count": 22,
     "metadata": {},
     "output_type": "execute_result"
    }
   ],
   "source": [
    "dict(total.dask)"
   ]
  }
 ],
 "metadata": {
  "anaconda-cloud": {},
  "kernelspec": {
   "display_name": "Python 3",
   "language": "python",
   "name": "python3"
  },
  "language_info": {
   "codemirror_mode": {
    "name": "ipython",
    "version": 3
   },
   "file_extension": ".py",
   "mimetype": "text/x-python",
   "name": "python",
   "nbconvert_exporter": "python",
   "pygments_lexer": "ipython3",
   "version": "3.9.5"
  }
 },
 "nbformat": 4,
 "nbformat_minor": 4
}
